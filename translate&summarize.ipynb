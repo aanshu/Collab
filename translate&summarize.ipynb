{
  "nbformat": 4,
  "nbformat_minor": 0,
  "metadata": {
    "colab": {
      "provenance": [],
      "authorship_tag": "ABX9TyMQ2ybGCqlWQcxyN2Cxfcv5",
      "include_colab_link": true
    },
    "kernelspec": {
      "name": "python3",
      "display_name": "Python 3"
    },
    "language_info": {
      "name": "python"
    }
  },
  "cells": [
    {
      "cell_type": "markdown",
      "metadata": {
        "id": "view-in-github",
        "colab_type": "text"
      },
      "source": [
        "<a href=\"https://colab.research.google.com/github/aanshu/GithubWorkshop/blob/master/translate%26summarize.ipynb\" target=\"_parent\"><img src=\"https://colab.research.google.com/assets/colab-badge.svg\" alt=\"Open In Colab\"/></a>"
      ]
    },
    {
      "cell_type": "code",
      "execution_count": 3,
      "metadata": {
        "colab": {
          "base_uri": "https://localhost:8080/"
        },
        "id": "4OwFbll_P_KT",
        "outputId": "e1efd786-1096-4e5d-bee0-b6e374fad187"
      },
      "outputs": [
        {
          "output_type": "stream",
          "name": "stdout",
          "text": [
            "[{'translation_text': 'मुझे थोड़ा आराम दे, मेरे प्यार, कभी कभी मुझे अपने हाथ दे आज रात सुंदरता का आनंद है इसे अपनी आँखों से ले लो बिना कारण के समय बर्बाद न करें बातचीत में शामिल हो जाओ इसे ले लो, प्रिय विनाश निश्चित है आप आग हैं, मैं जीवन का बलिदान हूं क्षण की बारीकियों को समझें थोड़ा, मेरे प्रिय बिना सुंदरियों की अनुमति के लिए सुंदरता नहीं खरीदा जा सकता है प्यारे लोगों की अनुमति के बिना इतना गर्व ... मेरे प्यार इतना गर्व नहीं खोखले वादों पर, आज रात सुंदरता की खुशी है आप आग हैं, मैं पानी हूँ।'}]\n"
          ]
        },
        {
          "output_type": "stream",
          "name": "stderr",
          "text": [
            "Your max_length is set to 200, but your input_length is only 145. Since this is a summarization task, where outputs shorter than the input are typically wanted, you might consider decreasing max_length manually, e.g. summarizer('...', max_length=72)\n"
          ]
        },
        {
          "output_type": "stream",
          "name": "stdout",
          "text": [
            "[{'summary_text': 'Tonight is the pleasure of beauty, my love, my beloved. Don’t waste time without reason. Sacrifice of life is the delicacy of the moment. Without the permission of lovely ones beauty cannot be bought.'}]\n"
          ]
        },
        {
          "output_type": "execute_result",
          "data": {
            "text/plain": [
              "0"
            ]
          },
          "metadata": {},
          "execution_count": 3
        }
      ],
      "source": [
        "from transformers import pipeline\n",
        "import torch\n",
        "import gc\n",
        "\n",
        "translator = pipeline(\n",
        "    task=\"translation\",\n",
        "    model=\"facebook/nllb-200-distilled-600M\",\n",
        "    torch_dtype=torch.bfloat16\n",
        ")\n",
        "\n",
        "text = \"\"\"\n",
        "Give me a little leisure, my love, sometimes\n",
        "Give me your arms\n",
        "Tonight is the pleasure of beauty\n",
        "Take it with your eyes\n",
        "Don’t waste time without reason\n",
        "Engage in conversation\n",
        "Take it, beloved\n",
        "Destruction is certain\n",
        "You are fire, I am water\n",
        "Sacrifice of life\n",
        "The delicacy of the moment\n",
        "Understand a bit, my beloved\n",
        "Without the permission of lovely ones\n",
        "For beauty cannot be bought\n",
        "Without the permission of lovely ones\n",
        "So much pride... my love\n",
        "Not that much pride\n",
        "On hollow promises,\n",
        "Tonight is the pleasure of beauty.\n",
        "    \"\"\"\n",
        "\n",
        "output = translator(text, src_lang=\"eng_Latn\", tgt_lang=\"hin_Deva\")\n",
        "print(output)\n",
        "\n",
        "summarizer = pipeline(\n",
        "    task=\"summarization\",\n",
        "    model=\"facebook/bart-large-cnn\",\n",
        "    torch_dtype=torch.bfloat16\n",
        ")\n",
        "\n",
        "summary = summarizer(text, min_length=30, max_length=200)\n",
        "print(summary)\n",
        "\n",
        "del translator\n",
        "del summarizer\n",
        "gc.collect()"
      ]
    }
  ]
}